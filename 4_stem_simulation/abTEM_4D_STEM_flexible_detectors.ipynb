{
 "cells": [
  {
   "cell_type": "markdown",
   "id": "fce7839d",
   "metadata": {},
   "source": [
    "# 📊 abTEM 4D-STEM Simulation (FlexibleAnnularDetector)\n",
    "\n",
    "This notebook simulates a 4D-STEM dataset using a DFT-relaxed 4H-SiC structure. It uses abTEM's `FlexibleAnnularDetector` to simulate the full scattering distribution and then integrates different angular ranges to obtain ABF, MAADF, and HAADF images.\n",
    "\n",
    "---\n",
    "\n",
    "## ✅ 1. Environment Setup (Google Colab)\n",
    "Install exact package versions for compatibility:\n"
   ]
  },
  {
   "cell_type": "code",
   "execution_count": null,
   "id": "bbd3e3df",
   "metadata": {},
   "outputs": [],
   "source": [
    "# Clean install for reproducibility\n",
    "!pip uninstall -y numpy cupy abtem zarr -q\n",
    "!pip install numpy==1.26.4\n",
    "!pip install cupy-cuda117\n",
    "!pip install abtem\n",
    "!pip install zarr==2.14.2\n"
   ]
  },
  {
   "cell_type": "markdown",
   "id": "1a1f3f6d",
   "metadata": {},
   "source": [
    "## 📂 2. Upload Relaxed Structure (`relaxed_positions_only.cif`)"
   ]
  },
  {
   "cell_type": "code",
   "execution_count": null,
   "id": "12b2e215",
   "metadata": {},
   "outputs": [],
   "source": [
    "from google.colab import files\n",
    "files.upload()  # Upload your GPAW-relaxed CIF file\n"
   ]
  },
  {
   "cell_type": "markdown",
   "id": "b160195b",
   "metadata": {},
   "source": [
    "## 🧱 3. Build Supercell and Align Zone Axis"
   ]
  },
  {
   "cell_type": "markdown",
   "id": "163734d4",
   "metadata": {},
   "source": [
    "### 🧭 How to Choose and Align the Zone Axis\n",
    "\n",
    "abTEM assumes the **beam propagates along the z-axis** of the simulation cell. This means:\n",
    "\n",
    "- Your atomic structure must be aligned such that the **desired zone axis lies along the z-axis**.\n",
    "- Use ASE's `surface()` function to extract a slab with the right orientation.\n",
    "- Then rotate the structure so the beam aligns with the desired direction.\n",
    "\n",
    "#### 🧱 Recommended Steps\n",
    "\n",
    "```python\n",
    "from ase.build import surface\n",
    "\n",
    "atoms = read(\"relaxed_positions_only.cif\")\n",
    "atoms = surface(atoms, indices=(1, 0, 0), layers=4, periodic=True)  # zone axis [100]\n",
    "atoms.rotate('x', 'z')  # aligns [100] along z-axis for abTEM\n",
    "```\n",
    "\n",
    "Then expand the slab if needed:\n",
    "```python\n",
    "atoms = atoms.repeat((2, 2, 1))  # xy expansion, z = beam direction\n",
    "```\n",
    "\n",
    "Finally, **center the slab in Y** so it doesn't clip the scan window:\n",
    "```python\n",
    "atoms.translate((0, -atoms.get_center_of_mass()[1] + atoms.cell[1, 1] / 2, 0))\n",
    "```\n",
    "\n",
    "---\n",
    "\n",
    "💡 Choosing the correct zone axis (e.g., [100], [110]) depends on the crystal orientation you want to image. Use a structure viewer like VESTA or ASE GUI to determine the Miller indices that produce an interpretable zone axis.\n"
   ]
  },
  {
   "cell_type": "code",
   "execution_count": null,
   "id": "801d0670",
   "metadata": {},
   "outputs": [],
   "source": [
    "from ase.io import read\n",
    "from ase.build import surface\n",
    "\n",
    "atoms = read(\"relaxed_positions_only.cif\")\n",
    "atoms = surface(atoms, indices=(1, 0, 0), layers=4, periodic=True)  # create slab\n",
    "atoms.rotate('x', 'z')  # beam direction along [100]\n",
    "atoms = atoms.repeat((2, 2, 1))\n",
    "atoms.wrap()\n",
    "atoms.translate((0, -atoms.get_center_of_mass()[1] + atoms.cell[1, 1] / 2, 0))  # center in Y\n",
    "\n",
    "print(\"Cell dimensions [Å]:\", atoms.cell.lengths())\n"
   ]
  },
  {
   "cell_type": "markdown",
   "id": "2b8960ce",
   "metadata": {},
   "source": [
    "## 🔋 4. Create Potential Object"
   ]
  },
  {
   "cell_type": "code",
   "execution_count": null,
   "id": "0a4e33e4",
   "metadata": {},
   "outputs": [],
   "source": [
    "import abtem\n",
    "potential = abtem.Potential(atoms, sampling=0.025)\n",
    "print(\"Potential grid shape:\", potential.shape)\n"
   ]
  },
  {
   "cell_type": "markdown",
   "id": "06fc7e52",
   "metadata": {},
   "source": [
    "## ⚡ 5. Set Up GPU / CPU for FFT (CuPy or FFTW)"
   ]
  },
  {
   "cell_type": "code",
   "execution_count": null,
   "id": "485b2bc8",
   "metadata": {},
   "outputs": [],
   "source": [
    "import cupy\n",
    "_ = cupy.zeros(1)\n",
    "try:\n",
    "    abtem.config.set({\n",
    "        \"device\": \"gpu\",\n",
    "        \"fft\": \"cupy\"\n",
    "    })\n",
    "    print(\"✅ Using GPU with CuPy.\")\n",
    "except Exception as e:\n",
    "    abtem.config.set({\n",
    "        \"device\": \"cpu\",\n",
    "        \"fft\": \"fftw\"\n",
    "    })\n",
    "    print(\"⚠️ CuPy unavailable. Falling back to CPU. Reason:\", e)\n"
   ]
  },
  {
   "cell_type": "markdown",
   "id": "73e96d87",
   "metadata": {},
   "source": [
    "## 🔬 6. Define Probe"
   ]
  },
  {
   "cell_type": "code",
   "execution_count": null,
   "id": "9d662c51",
   "metadata": {},
   "outputs": [],
   "source": [
    "probe = abtem.Probe(\n",
    "    energy=300e3,              # 300 kV accelerating voltage\n",
    "    semiangle_cutoff=20,       # mrad\n",
    "    Cs=1.3e-3 * 1e10,          # 1.3 mm spherical aberration\n",
    "    defocus=30                 # Defocus in Å (positive for overfocus)\n",
    ")\n",
    "probe.grid.match(potential)\n",
    "print(\"Probe FWHM [Å]:\", probe.profiles().width().compute())\n"
   ]
  },
  {
   "cell_type": "markdown",
   "id": "a57b36af",
   "metadata": {},
   "source": [
    "### 🔬 abTEM `Probe` Parameter Guide\n",
    "\n",
    "The probe in STEM defines how the electron beam is formed and how it interacts with the sample. Here's a breakdown of the parameters:\n",
    "\n",
    "- `energy=300e3`: The accelerating voltage of the microscope in electron volts (eV).  \n",
    "  Typical range: 60–300 keV depending on the system. 300 keV is standard for atomic-resolution STEM.\n",
    "\n",
    "- `semiangle_cutoff=20`: The **convergence semi-angle** of the electron beam in milliradians (mrad).  \n",
    "  It sets the **maximum scattering angle** simulated. Detectors should not exceed this value.\n",
    "\n",
    "- `Cs=1.3e-3 * 1e10`: Spherical aberration coefficient (Cs), in Angstroms.  \n",
    "  For example, 1.3 mm = 1.3e-3 m = `1.3e-3 * 1e10` Å. Used for probe shape modeling.\n",
    "\n",
    "- `defocus=30`: The defocus in Angstroms. Positive = overfocus, negative = underfocus.  \n",
    "  You may use `\"scherzer\"` instead of a number to auto-select the optimal value.\n",
    "\n",
    "**Choosing semiangle cutoff:**  \n",
    "- Ensure `semiangle_cutoff` is **greater than** the outer angle of any detector.\n",
    "- Typical ranges:\n",
    "  - ABF: 5–10 mrad\n",
    "  - MAADF: 10–30 mrad\n",
    "  - HAADF: 30–70+ mrad\n"
   ]
  },
  {
   "cell_type": "markdown",
   "id": "517e2ccf",
   "metadata": {},
   "source": [
    "## 🗺️ 7. Set Scan Grid"
   ]
  },
  {
   "cell_type": "markdown",
   "id": "f7d0596b",
   "metadata": {},
   "source": [
    "### 🗺️ `GridScan` Parameter Guide\n",
    "\n",
    "`GridScan` defines the electron beam scan grid over your atomic model.\n",
    "\n",
    "- `start=(0, 0), end=(1, 1)`: Defines scan bounds **as a fraction of the cell dimensions**.\n",
    "    - `(0, 0)` is bottom-left, `(1, 1)` is top-right of the projected unit cell.\n",
    "    - You can scan a subsection, e.g., `(0.2, 0.2)` to `(0.8, 0.8)`.\n",
    "\n",
    "- `sampling=...`: Pixel spacing in Å (or fraction of Nyquist). Smaller = higher resolution.\n",
    "    - `probe.aperture.nyquist_sampling` gives the ideal sampling to capture probe details.\n",
    "    - You can reduce this (e.g., divide by 2) for higher resolution scans.\n",
    "\n",
    "- `fractional=True`: Indicates that `start` and `end` are given as **fractions** of the potential size.\n",
    "    - If `False`, they would be absolute coordinates in Å.\n",
    "\n",
    "- `potential=...`: The potential object generated from your atomic structure.\n",
    "\n",
    "**Scan resolution tip:**  \n",
    "To reduce simulation time, use `sampling = nyquist / 2` or `nyquist / 3`. This balances detail and speed.\n"
   ]
  },
  {
   "cell_type": "code",
   "execution_count": null,
   "id": "abaf7e5b",
   "metadata": {},
   "outputs": [],
   "source": [
    "from abtem import GridScan\n",
    "scan = GridScan(\n",
    "    start=(0, 0), end=(1, 1),\n",
    "    sampling=probe.aperture.nyquist_sampling / 2,\n",
    "    fractional=True,\n",
    "    potential=potential\n",
    ")\n",
    "print(\"Scan shape:\", scan.shape)\n"
   ]
  },
  {
   "cell_type": "markdown",
   "id": "a1d03743",
   "metadata": {},
   "source": [
    "## 🎯 8. Run Simulation with Flexible Detector"
   ]
  },
  {
   "cell_type": "code",
   "execution_count": null,
   "id": "96a1a2b9",
   "metadata": {},
   "outputs": [],
   "source": [
    "from abtem.detectors import FlexibleAnnularDetector\n",
    "flex = FlexibleAnnularDetector()\n",
    "\n",
    "result = probe.scan(potential, scan=scan, detectors=flex)\n",
    "result.compute()\n",
    "result.save(\"flex_scan.zarr\")\n",
    "print(\"Saved full scan to flex_scan.zarr\")\n"
   ]
  },
  {
   "cell_type": "markdown",
   "id": "5d270c37",
   "metadata": {},
   "source": [
    "## 🎞️ 9. Integrate Radial Ranges for STEM Images"
   ]
  },
  {
   "cell_type": "markdown",
   "id": "a881e487",
   "metadata": {},
   "source": [
    "### 🎯 Detector Angle Selection and Integration Ranges\n",
    "\n",
    "In 4D-STEM with `FlexibleAnnularDetector`, we capture the **full angular scattering distribution**, and later extract signals by integrating over angle ranges:\n",
    "\n",
    "```python\n",
    "abf = result.integrate_radial(0, 10)     # ABF\n",
    "maadf = result.integrate_radial(10, 20)  # MAADF\n",
    "haadf = result.integrate_radial(20, 30)  # HAADF\n",
    "```\n",
    "\n",
    "⚠️ **Important:** These angular values must not exceed the `probe.semiangle_cutoff` value. If `semiangle_cutoff=20`, then a range like `(20, 30)` will fail or give no signal.\n",
    "\n",
    "#### 🧠 Recommended Ranges:\n",
    "| Signal Type | Suggested Angle Range (mrad) |\n",
    "|-------------|------------------------------|\n",
    "| ABF         |  0 – 10                      |\n",
    "| MAADF       | 10 – 20                      |\n",
    "| HAADF       | 20 – 30 (only if cutoff > 30)|\n",
    "\n",
    "You can check this before integration:\n",
    "```python\n",
    "print(\"Max angle simulated:\", probe.semiangle_cutoff, \"mrad\")\n",
    "```\n",
    "\n",
    "Always ensure your detector ranges fall within `0` to `semiangle_cutoff`.\n"
   ]
  },
  {
   "cell_type": "code",
   "execution_count": null,
   "id": "286a380b",
   "metadata": {},
   "outputs": [],
   "source": [
    "from abtem import stack\n",
    "\n",
    "abf = result.integrate_radial(0, 10)     # ABF\n",
    "maadf = result.integrate_radial(10, 20)  # MAADF\n",
    "haadf = result.integrate_radial(20, 30)  # HAADF\n",
    "\n",
    "measurement_stack = stack([abf, maadf, haadf])\n",
    "fig = measurement_stack.show(\n",
    "    explode=True, figsize=(14, 5), cbar=True, cmap=\"gray\", return_figure=True\n",
    ")\n",
    "fig.savefig(\"stacked_measurements.png\", dpi=300)\n",
    "print(\"Saved image as stacked_measurements.png\")\n"
   ]
  }
 ],
 "metadata": {},
 "nbformat": 4,
 "nbformat_minor": 5
}
