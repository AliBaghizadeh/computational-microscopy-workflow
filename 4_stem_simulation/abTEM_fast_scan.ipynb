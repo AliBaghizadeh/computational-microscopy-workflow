{
 "cells": [
  {
   "cell_type": "markdown",
   "id": "0e6efc46",
   "metadata": {},
   "source": [
    "# ⚡ abTEM Fast STEM Simulation (AnnularDetector)\n",
    "This notebook simulates ABF and HAADF images directly using fixed annular detectors.\n",
    "It is optimized for speed and quick visualization with fewer scan points.\n",
    "\n",
    "---\n",
    "## ✅ 1. Environment Setup (Google Colab)"
   ]
  },
  {
   "cell_type": "code",
   "execution_count": null,
   "id": "e83f6c55",
   "metadata": {},
   "outputs": [],
   "source": [
    "# Clean install for reproducibility\n",
    "!pip uninstall -y numpy cupy abtem zarr -q\n",
    "!pip install numpy==1.26.4\n",
    "!pip install cupy-cuda117\n",
    "!pip install abtem\n",
    "!pip install zarr==2.14.2\n"
   ]
  },
  {
   "cell_type": "markdown",
   "id": "6ce3ad44",
   "metadata": {},
   "source": [
    "## 📂 2. Upload Relaxed Structure (`relaxed_positions_only.cif`)"
   ]
  },
  {
   "cell_type": "code",
   "execution_count": null,
   "id": "f417250f",
   "metadata": {},
   "outputs": [],
   "source": [
    "from google.colab import files\n",
    "files.upload()\n"
   ]
  },
  {
   "cell_type": "markdown",
   "id": "a118892a",
   "metadata": {},
   "source": [
    "## 🧱 3. Build Supercell and Align Zone Axis"
   ]
  },
  {
   "cell_type": "code",
   "execution_count": null,
   "id": "1f3a46e4",
   "metadata": {},
   "outputs": [],
   "source": [
    "from ase.io import read\n",
    "from ase.build import surface\n",
    "\n",
    "atoms = read(\"relaxed_positions_only.cif\")\n",
    "atoms = surface(atoms, indices=(1, 0, 0), layers=4, periodic=True)\n",
    "atoms.rotate('x', 'z')\n",
    "atoms = atoms.repeat((2, 2, 1))\n",
    "atoms.wrap()\n",
    "atoms.translate((0, -atoms.get_center_of_mass()[1] + atoms.cell[1, 1] / 2, 0))\n",
    "\n",
    "print(\"Cell dimensions [Å]:\", atoms.cell.lengths())\n"
   ]
  },
  {
   "cell_type": "markdown",
   "id": "61b8334f",
   "metadata": {},
   "source": [
    "### 🧭 How to Choose and Align the Zone Axis\n",
    "\n",
    "abTEM assumes the **beam travels along the z-axis**. So, we rotate the structure to place the desired crystallographic direction along z. Use ASE's `surface()` and `rotate()` to achieve this.\n",
    "\n",
    "Repeat the unit cell in x and y to enlarge the scanning area. Keep z small (thickness).\n"
   ]
  },
  {
   "cell_type": "markdown",
   "id": "ace74f46",
   "metadata": {},
   "source": [
    "## 🔋 4. Create Potential Object"
   ]
  },
  {
   "cell_type": "code",
   "execution_count": null,
   "id": "03d69cb3",
   "metadata": {},
   "outputs": [],
   "source": [
    "import abtem\n",
    "potential = abtem.Potential(atoms, sampling=0.025)\n",
    "print(\"Potential grid shape:\", potential.shape)\n"
   ]
  },
  {
   "cell_type": "markdown",
   "id": "3d83799d",
   "metadata": {},
   "source": [
    "## ⚡ 5. Set Up GPU / CPU for FFT (CuPy or FFTW)"
   ]
  },
  {
   "cell_type": "code",
   "execution_count": null,
   "id": "b8f2c87d",
   "metadata": {},
   "outputs": [],
   "source": [
    "import cupy\n",
    "_ = cupy.zeros(1)\n",
    "try:\n",
    "    abtem.config.set({\"device\": \"gpu\", \"fft\": \"cupy\"})\n",
    "    print(\"✅ Using GPU with CuPy.\")\n",
    "except Exception as e:\n",
    "    abtem.config.set({\"device\": \"cpu\", \"fft\": \"fftw\"})\n",
    "    print(\"⚠️ Falling back to CPU. Reason:\", e)\n"
   ]
  },
  {
   "cell_type": "markdown",
   "id": "34e8994d",
   "metadata": {},
   "source": [
    "## 🔬 6. Define Probe"
   ]
  },
  {
   "cell_type": "code",
   "execution_count": null,
   "id": "5e42fe6b",
   "metadata": {},
   "outputs": [],
   "source": [
    "probe = abtem.Probe(\n",
    "    energy=300e3,\n",
    "    semiangle_cutoff=20,\n",
    "    Cs=1.3e-3 * 1e10,\n",
    "    defocus=30\n",
    ")\n",
    "probe.grid.match(potential)\n",
    "print(\"Probe FWHM [Å]:\", probe.profiles().width().compute())\n"
   ]
  },
  {
   "cell_type": "markdown",
   "id": "5e95997c",
   "metadata": {},
   "source": [
    "### 🔬 abTEM `Probe` Parameter Guide\n",
    "\n",
    "- `energy`: Beam energy in eV.\n",
    "- `semiangle_cutoff`: Max simulated scattering angle in mrad. Detectors must stay within this.\n",
    "- `Cs`: Spherical aberration (in Å). `1.3 mm = 1.3e-3 * 1e10 Å`.\n",
    "- `defocus`: Focus offset (positive = overfocus).\n",
    "\n",
    "Always ensure detectors (next step) use angles < `semiangle_cutoff`.\n"
   ]
  },
  {
   "cell_type": "markdown",
   "id": "318e238e",
   "metadata": {},
   "source": [
    "## 🗺️ 7. Set Scan Grid"
   ]
  },
  {
   "cell_type": "code",
   "execution_count": null,
   "id": "6dd2eeab",
   "metadata": {},
   "outputs": [],
   "source": [
    "from abtem import GridScan\n",
    "\n",
    "scan = GridScan(\n",
    "    start=(0, 0), end=(1, 1),\n",
    "    sampling=probe.aperture.nyquist_sampling / 3.5,\n",
    "    fractional=True,\n",
    "    potential=potential\n",
    ")\n",
    "print(\"Scan shape:\", scan.shape)\n"
   ]
  },
  {
   "cell_type": "markdown",
   "id": "712fe3b9",
   "metadata": {},
   "source": [
    "### 🗺️ GridScan Parameter Guide\n",
    "\n",
    "Defines how the probe moves across the specimen.  \n",
    "Start/end are **fractions** of the unit cell.  \n",
    "Sampling controls resolution. Fewer points = faster but lower-res.\n",
    "\n",
    "Use `nyquist_sampling / 3.5` to balance detail and speed.\n"
   ]
  },
  {
   "cell_type": "markdown",
   "id": "901f78ec",
   "metadata": {},
   "source": [
    "## 🎯 8. Define Annular Detectors and Run Simulation"
   ]
  },
  {
   "cell_type": "code",
   "execution_count": null,
   "id": "368d73fc",
   "metadata": {},
   "outputs": [],
   "source": [
    "from abtem.detectors import AnnularDetector\n",
    "\n",
    "abf = AnnularDetector(inner=12, outer=19)     # 12–19 mrad\n",
    "haadf = AnnularDetector(inner=30, outer=32)   # 30–32 mrad (only valid if semiangle_cutoff ≥ 32)\n",
    "\n",
    "from abtem import stack\n",
    "\n",
    "result = probe.scan(potential, scan=scan, detectors=[abf, haadf])\n",
    "result.compute()\n"
   ]
  },
  {
   "cell_type": "markdown",
   "id": "33c6c15a",
   "metadata": {},
   "source": [
    "### 🎯 How to Choose Annular Detector Ranges\n",
    "\n",
    "- Must fall within `probe.semiangle_cutoff`, e.g., if cutoff = 20, you cannot use 30–32.\n",
    "- Typical ranges:\n",
    "  - ABF: 10–20 mrad\n",
    "  - HAADF: 30+ mrad\n",
    "\n",
    "You can print:\n",
    "\n",
    "```python\n",
    "print(\"Max angle:\", probe.semiangle_cutoff)\n",
    "```\n"
   ]
  },
  {
   "cell_type": "markdown",
   "id": "bed4baf5",
   "metadata": {},
   "source": [
    "## 🖼️ 9. Visualize and Save Output"
   ]
  },
  {
   "cell_type": "code",
   "execution_count": null,
   "id": "dd4962c0",
   "metadata": {},
   "outputs": [],
   "source": [
    "fig = result.show(cmap='gray', figsize=(12,5), return_figure=True)\n",
    "fig.savefig(\"fast_scan_output.png\", dpi=300)\n",
    "print(\"Saved image: fast_scan_output.png\")\n"
   ]
  },
  {
   "cell_type": "markdown",
   "id": "4d50a17e",
   "metadata": {},
   "source": [
    "## 🖼️ 10. Post-Processing, Visualization, and Downloads\n",
    "\n",
    "In this section, we apply Gaussian filtering, save both raw and processed images, and allow for interactive display.\n",
    "\n",
    "You can adjust the color contrast of ABF using sliders to visually enhance weak contrast features.\n",
    "\n",
    "This is **critical for interpreting low-angle images**, where subtle differences are informative.\n"
   ]
  },
  {
   "cell_type": "code",
   "execution_count": null,
   "id": "b8478281",
   "metadata": {},
   "outputs": [],
   "source": [
    "import numpy as np\n",
    "import matplotlib.pyplot as plt\n",
    "from google.colab import files\n",
    "\n",
    "# Use CPU for post-processing\n",
    "abtem.config.set({\"device\": \"cpu\", \"fft\": \"fftw\"})\n",
    "\n",
    "labels = [\"ABF\", \"HAADF\"]\n",
    "named_stack = result\n",
    "\n",
    "# Interpolate + filter\n",
    "interpolated = [m.interpolate(0.05) for m in named_stack]\n",
    "filtered = [m.gaussian_filter(0.3) for m in interpolated]\n",
    "\n",
    "# Save and download\n",
    "for label, raw_img, filt_img in zip(labels, named_stack, filtered):\n",
    "    raw_array = raw_img.array\n",
    "    np.save(f\"{label.lower()}_raw.npy\", raw_array)\n",
    "    plt.imshow(raw_array, cmap=\"gray\")\n",
    "    plt.title(f\"{label} (raw)\")\n",
    "    plt.colorbar()\n",
    "    plt.savefig(f\"{label.lower()}_raw.png\", dpi=300, bbox_inches='tight')\n",
    "    plt.close()\n",
    "\n",
    "    files.download(f\"{label.lower()}_raw.npy\")\n",
    "    files.download(f\"{label.lower()}_raw.png\")\n",
    "\n",
    "    filt_array = filt_img.array\n",
    "    np.save(f\"{label.lower()}_filtered.npy\", filt_array)\n",
    "    plt.imshow(filt_array, cmap=\"gray\")\n",
    "    plt.title(f\"{label} (filtered)\")\n",
    "    plt.colorbar()\n",
    "    plt.savefig(f\"{label.lower()}_filtered.png\", dpi=300, bbox_inches='tight')\n",
    "    plt.close()\n",
    "\n",
    "    files.download(f\"{label.lower()}_filtered.npy\")\n",
    "    files.download(f\"{label.lower()}_filtered.png\")\n"
   ]
  },
  {
   "cell_type": "markdown",
   "id": "a390ef84",
   "metadata": {},
   "source": [
    "## 🔧 11. Interactive ABF Viewer"
   ]
  },
  {
   "cell_type": "code",
   "execution_count": null,
   "id": "0e467b68",
   "metadata": {},
   "outputs": [],
   "source": [
    "import ipywidgets as widgets\n",
    "from IPython.display import display\n",
    "\n",
    "abf_measurement = named_stack[0]\n",
    "abf_array = abf_measurement.array\n",
    "\n",
    "def show_abf(vmin=0.52, vmax=0.54):\n",
    "    plt.figure(figsize=(6, 4))\n",
    "    plt.imshow(abf_array, cmap='gray', vmin=vmin, vmax=vmax)\n",
    "    plt.title(\"ABF with adjustable contrast\")\n",
    "    plt.colorbar()\n",
    "    plt.show()\n",
    "\n",
    "print(\"ABF range:\", np.min(abf_array), \"to\", np.max(abf_array))\n",
    "\n",
    "widgets.interact(show_abf, vmin=(0.50, 0.60, 0.001), vmax=(0.51, 0.62, 0.001));\n"
   ]
  }
 ],
 "metadata": {},
 "nbformat": 4,
 "nbformat_minor": 5
}
